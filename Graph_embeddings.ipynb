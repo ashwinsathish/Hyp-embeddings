{
  "nbformat": 4,
  "nbformat_minor": 0,
  "metadata": {
    "colab": {
      "provenance": [],
      "authorship_tag": "ABX9TyPdJ8VJvYGoJUX3u6IwvgC7",
      "include_colab_link": true
    },
    "kernelspec": {
      "name": "python3",
      "display_name": "Python 3"
    },
    "language_info": {
      "name": "python"
    }
  },
  "cells": [
    {
      "cell_type": "markdown",
      "metadata": {
        "id": "view-in-github",
        "colab_type": "text"
      },
      "source": [
        "<a href=\"https://colab.research.google.com/github/ashwinsathish/Hyp-embeddings/blob/main/Graph_embeddings.ipynb\" target=\"_parent\"><img src=\"https://colab.research.google.com/assets/colab-badge.svg\" alt=\"Open In Colab\"/></a>"
      ]
    },
    {
      "cell_type": "code",
      "execution_count": null,
      "metadata": {
        "colab": {
          "base_uri": "https://localhost:8080/",
          "height": 232
        },
        "id": "3jOsiS0hfGfZ",
        "outputId": "9661c5dd-e117-4e4a-8139-081b4462ac5e"
      },
      "outputs": [
        {
          "output_type": "error",
          "ename": "NameError",
          "evalue": "ignored",
          "traceback": [
            "\u001b[0;31m---------------------------------------------------------------------------\u001b[0m",
            "\u001b[0;31mNameError\u001b[0m                                 Traceback (most recent call last)",
            "\u001b[0;32m<ipython-input-1-5fdf2014acab>\u001b[0m in \u001b[0;36m<module>\u001b[0;34m()\u001b[0m\n\u001b[0;32m----> 1\u001b[0;31m \u001b[0;32mclass\u001b[0m \u001b[0mModel\u001b[0m\u001b[0;34m(\u001b[0m\u001b[0mtorch\u001b[0m\u001b[0;34m.\u001b[0m\u001b[0mnn\u001b[0m\u001b[0;34m.\u001b[0m\u001b[0mModule\u001b[0m\u001b[0;34m)\u001b[0m\u001b[0;34m:\u001b[0m\u001b[0;34m\u001b[0m\u001b[0;34m\u001b[0m\u001b[0m\n\u001b[0m\u001b[1;32m      2\u001b[0m     \u001b[0;32mdef\u001b[0m \u001b[0m__init__\u001b[0m\u001b[0;34m(\u001b[0m\u001b[0mself\u001b[0m\u001b[0;34m,\u001b[0m \u001b[0mdim\u001b[0m\u001b[0;34m,\u001b[0m \u001b[0msize\u001b[0m\u001b[0;34m,\u001b[0m \u001b[0minit_weights\u001b[0m\u001b[0;34m=\u001b[0m\u001b[0;36m1e-3\u001b[0m\u001b[0;34m,\u001b[0m \u001b[0mepsilon\u001b[0m\u001b[0;34m=\u001b[0m\u001b[0;36m1e-7\u001b[0m\u001b[0;34m)\u001b[0m\u001b[0;34m:\u001b[0m\u001b[0;34m\u001b[0m\u001b[0;34m\u001b[0m\u001b[0m\n\u001b[1;32m      3\u001b[0m         \u001b[0msuper\u001b[0m\u001b[0;34m(\u001b[0m\u001b[0;34m)\u001b[0m\u001b[0;34m.\u001b[0m\u001b[0m__init__\u001b[0m\u001b[0;34m(\u001b[0m\u001b[0;34m)\u001b[0m\u001b[0;34m\u001b[0m\u001b[0;34m\u001b[0m\u001b[0m\n\u001b[1;32m      4\u001b[0m         \u001b[0mself\u001b[0m\u001b[0;34m.\u001b[0m\u001b[0membedding\u001b[0m \u001b[0;34m=\u001b[0m \u001b[0mEmbedding\u001b[0m\u001b[0;34m(\u001b[0m\u001b[0msize\u001b[0m\u001b[0;34m,\u001b[0m \u001b[0mdim\u001b[0m\u001b[0;34m,\u001b[0m \u001b[0msparse\u001b[0m\u001b[0;34m=\u001b[0m\u001b[0;32mFalse\u001b[0m\u001b[0;34m)\u001b[0m\u001b[0;34m\u001b[0m\u001b[0;34m\u001b[0m\u001b[0m\n\u001b[1;32m      5\u001b[0m         \u001b[0mself\u001b[0m\u001b[0;34m.\u001b[0m\u001b[0membedding\u001b[0m\u001b[0;34m.\u001b[0m\u001b[0mweight\u001b[0m\u001b[0;34m.\u001b[0m\u001b[0mdata\u001b[0m\u001b[0;34m.\u001b[0m\u001b[0muniform_\u001b[0m\u001b[0;34m(\u001b[0m\u001b[0;34m-\u001b[0m\u001b[0minit_weights\u001b[0m\u001b[0;34m,\u001b[0m \u001b[0minit_weights\u001b[0m\u001b[0;34m)\u001b[0m\u001b[0;34m\u001b[0m\u001b[0;34m\u001b[0m\u001b[0m\n",
            "\u001b[0;31mNameError\u001b[0m: name 'torch' is not defined"
          ]
        }
      ],
      "source": [
        "class Model(torch.nn.Module):\n",
        "    def __init__(self, dim, size, init_weights=1e-3, epsilon=1e-7):\n",
        "        super().__init__()\n",
        "        self.embedding = Embedding(size, dim, sparse=False)\n",
        "        self.embedding.weight.data.uniform_(-init_weights, init_weights)\n",
        "        self.epsilon = epsilon\n",
        "\n",
        "    def dist(self, u, v):\n",
        "        sqdist = torch.sum((u - v) ** 2, dim=-1)\n",
        "        squnorm = torch.sum(u ** 2, dim=-1)\n",
        "        sqvnorm = torch.sum(v ** 2, dim=-1)\n",
        "        x = 1 + 2 * sqdist / ((1 - squnorm) * (1 - sqvnorm)) + self.epsilon\n",
        "        z = torch.sqrt(x ** 2 - 1)\n",
        "        return torch.log(x + z)\n",
        "\n",
        "    def forward(self, inputs):\n",
        "        e = self.embedding(inputs)\n",
        "        o = e.narrow(dim=1, start=1, length=e.size(1) - 1)\n",
        "        s = e.narrow(dim=1, start=0, length=1).expand_as(o)\n",
        "\n",
        "        return self.dist(s, o)"
      ]
    },
    {
      "cell_type": "code",
      "source": [
        "cat_dist = Categorical(probs=torch.from_numpy(weights))\n",
        "unif_dist = Categorical(probs=torch.ones(len(names),) / len(names))\n",
        "\n",
        "model = Model(dim=DIMENSIONS, size=len(names))\n",
        "optimizer = RiemannianSGD(model.parameters())\n",
        "\n",
        "loss_func = CrossEntropyLoss()\n",
        "batch_X = torch.zeros(10, NEG_SAMPLES + 2, dtype=torch.long)\n",
        "batch_y = torch.zeros(10, dtype=torch.long)\n",
        "\n",
        "while True:\n",
        "    if epoch < 20:\n",
        "        lr = 0.003\n",
        "        sampler = cat_dist\n",
        "    else:\n",
        "        lr = 0.3\n",
        "        sampler = unif_dist\n",
        "\n",
        "    perm = torch.randperm(dataset.size(0))\n",
        "    dataset_rnd = dataset[perm]\n",
        "    for i in tqdm(range(0, dataset.size(0) - dataset.size(0) % 10, 10)):\n",
        "        batch_X[:,:2] = dataset_rnd[i : i + 10]\n",
        "\n",
        "        for j in range(10):\n",
        "            a = set(sampler.sample([2 * NEG_SAMPLES]).numpy())\n",
        "            negatives = list(a - (set(neighbors[batch_X[j, 0]]) | set(neighbors[batch_X[j, 1]])))\n",
        "            batch_X[j, 2 : len(negatives)+2] = torch.LongTensor(negatives[:NEG_SAMPLES])\n",
        "\n",
        "        optimizer.zero_grad()\n",
        "        preds = model(batch_X)\n",
        "\n",
        "        loss = loss_func(preds.neg(), batch_y)\n",
        "        loss.backward()\n",
        "        optimizer.step(lr=lr)"
      ],
      "metadata": {
        "id": "KymGO8YbfHfi"
      },
      "execution_count": null,
      "outputs": []
    },
    {
      "cell_type": "code",
      "source": [
        "import matplotlib.pyplot as plt\n",
        "\n",
        "model = torch.load(\"poincare_model_dim_2.pt\")\n",
        "coordinates = model[\"state_dict\"][\"embedding.weight\"].numpy()\n",
        "\n",
        "plt.xlim(-1, 1)\n",
        "plt.ylim(-1, 1)\n",
        "plt.axis('off')\n",
        "\n",
        "for x in range(coordinates.shape[0]):\n",
        "    plt.annotate(model[\"names\"][x], (coordinates[x,0], coordinates[x,1]),\n",
        "                 bbox={\"fc\":\"white\", \"alpha\":0.9})\n",
        "\n",
        "plt.show()\n"
      ],
      "metadata": {
        "id": "-GUuBBrxfHhg"
      },
      "execution_count": null,
      "outputs": []
    },
    {
      "cell_type": "code",
      "source": [],
      "metadata": {
        "id": "hf4l0sgvfHkE"
      },
      "execution_count": null,
      "outputs": []
    },
    {
      "cell_type": "code",
      "source": [],
      "metadata": {
        "id": "T7SiV02wfHms"
      },
      "execution_count": null,
      "outputs": []
    }
  ]
}